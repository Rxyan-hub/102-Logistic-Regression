{
 "cells": [
  {
   "cell_type": "code",
   "execution_count": 1,
   "id": "8d6c8e7c",
   "metadata": {},
   "outputs": [],
   "source": [
    "import pandas as pd\n",
    "import matplotlib.pyplot as plt \n",
    "import sklearn.preprocessing as StandarScler\n"
   ]
  },
  {
   "cell_type": "code",
   "execution_count": null,
   "id": "9783f5e1",
   "metadata": {},
   "outputs": [],
   "source": [
    "data = \"Mortality_incidence_sociodemographic_and_clinical_data_in_COVID19_patients.xlsx\"\n",
    "df = pd.read_excel(data)\n",
    "# See first 5 rows\n",
    "print(\"Shape:\", df.shape)\n",
    "print(\"Columns:\", df.columns.tolist())"
   ]
  }
 ],
 "metadata": {
  "kernelspec": {
   "display_name": "Python 3",
   "language": "python",
   "name": "python3"
  },
  "language_info": {
   "codemirror_mode": {
    "name": "ipython",
    "version": 3
   },
   "file_extension": ".py",
   "mimetype": "text/x-python",
   "name": "python",
   "nbconvert_exporter": "python",
   "pygments_lexer": "ipython3",
   "version": "3.12.4"
  }
 },
 "nbformat": 4,
 "nbformat_minor": 5
}
