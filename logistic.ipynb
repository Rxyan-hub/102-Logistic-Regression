{
 "cells": [
  {
   "cell_type": "code",
   "execution_count": 62,
   "id": "0fe93605",
   "metadata": {},
   "outputs": [],
   "source": [
    "import numpy as np \n",
    "import pandas as pd \n",
    "import matplotlib.pyplot as plt \n",
    "from sklearn.preprocessing import StandardScaler"
   ]
  },
  {
   "cell_type": "code",
   "execution_count": 94,
   "id": "3c955f7c",
   "metadata": {},
   "outputs": [
    {
     "name": "stdout",
     "output_type": "stream",
     "text": [
      "Shape: (4711, 85)\n",
      "Columns: ['Derivation cohort', 'LOS_Y', 'LOS', 'Death', 'Age', 'Severity', 'Black', 'White', 'Asian', 'Latino', 'MI', 'PVD', 'CHF', 'CVD', 'DEMENT', 'COPD', 'DM Complicated', 'DM Simple', 'Renal Disease', 'All CNS', 'Pure CNS', 'Stroke', 'Seizure', 'OldSyncope', 'OldOtherNeuro', 'OtherBrnLsn', 'Age.1', 'AgeScore', 'O2SatsYes', 'OsSats', 'O2 Sat < 94', 'TempYes', 'Temp', 'Temp > 38', 'MapYes', 'MAP', 'MAP < 70', 'DDimerYes', 'Ddimer', 'D-Dimer > 3', 'PltsYes', 'Plts', 'PltsScore', 'INRYes', 'INR', 'INR > 1.2', 'BUNYes', 'BUN', 'BUN > 30', 'CrtnYes', 'Creatinine', 'CrtnScore', 'SodimuYes', 'Sodium', 'Sodium < 139 or > 154', 'GlucoseYese', 'Glucose', 'Glucose <60 or > 500', 'ASTYes', 'AST', 'AST > 40', 'ALTYes', 'ALT', 'ALT > 40', 'WBCYes', 'WBC', 'WBC <1.8 or > 4.8', 'LymphoYes', 'Lympho', 'Lymphocytes < 1', 'IL6Yes', 'IL6', 'IL6 > 150', 'FerritinYes', 'Ferritin', 'Ferritin > 300', 'CrctProtYes', 'CrctProtein', 'C-Reactive Prot > 10', 'ProCalCYes', 'Procalcitonin', 'Procalciton > 0.1', 'TropYes', 'Troponin', 'Troponin > 0.1']\n"
     ]
    },
    {
     "name": "stderr",
     "output_type": "stream",
     "text": [
      "C:\\Users\\ishaq\\AppData\\Roaming\\Python\\Python312\\site-packages\\openpyxl\\worksheet\\_reader.py:329: UserWarning: Unknown extension is not supported and will be removed\n",
      "  warn(msg)\n"
     ]
    }
   ],
   "source": [
    "data = \"Mortality_incidence_sociodemographic_and_clinical_data_in_COVID19_patients.xlsx\"\n",
    "df = pd.read_excel(data)\n",
    "# See first 5 rows\n",
    "print(\"Shape:\", df.shape)\n",
    "print(\"Columns:\", df.columns.tolist())\n"
   ]
  },
  {
   "cell_type": "code",
   "execution_count": 95,
   "id": "6ac64061",
   "metadata": {},
   "outputs": [
    {
     "data": {
      "text/html": [
       "<div>\n",
       "<style scoped>\n",
       "    .dataframe tbody tr th:only-of-type {\n",
       "        vertical-align: middle;\n",
       "    }\n",
       "\n",
       "    .dataframe tbody tr th {\n",
       "        vertical-align: top;\n",
       "    }\n",
       "\n",
       "    .dataframe thead th {\n",
       "        text-align: right;\n",
       "    }\n",
       "</style>\n",
       "<table border=\"1\" class=\"dataframe\">\n",
       "  <thead>\n",
       "    <tr style=\"text-align: right;\">\n",
       "      <th></th>\n",
       "      <th>Derivation cohort</th>\n",
       "      <th>LOS_Y</th>\n",
       "      <th>LOS</th>\n",
       "      <th>Death</th>\n",
       "      <th>Severity</th>\n",
       "      <th>Black</th>\n",
       "      <th>White</th>\n",
       "      <th>Asian</th>\n",
       "      <th>Latino</th>\n",
       "      <th>MI</th>\n",
       "      <th>...</th>\n",
       "      <th>Ferritin &gt; 300</th>\n",
       "      <th>CrctProtYes</th>\n",
       "      <th>CrctProtein</th>\n",
       "      <th>C-Reactive Prot &gt; 10</th>\n",
       "      <th>ProCalCYes</th>\n",
       "      <th>Procalcitonin</th>\n",
       "      <th>Procalciton &gt; 0.1</th>\n",
       "      <th>TropYes</th>\n",
       "      <th>Troponin</th>\n",
       "      <th>Troponin &gt; 0.1</th>\n",
       "    </tr>\n",
       "  </thead>\n",
       "  <tbody>\n",
       "    <tr>\n",
       "      <th>count</th>\n",
       "      <td>4711.000000</td>\n",
       "      <td>4711.000000</td>\n",
       "      <td>4711.000000</td>\n",
       "      <td>4711.000000</td>\n",
       "      <td>4711.000000</td>\n",
       "      <td>4711.000000</td>\n",
       "      <td>4711.000000</td>\n",
       "      <td>4711.000000</td>\n",
       "      <td>4711.000000</td>\n",
       "      <td>4711.000000</td>\n",
       "      <td>...</td>\n",
       "      <td>4711.000000</td>\n",
       "      <td>4711.000000</td>\n",
       "      <td>4711.000000</td>\n",
       "      <td>4711.000000</td>\n",
       "      <td>4711.000000</td>\n",
       "      <td>4711.000000</td>\n",
       "      <td>4711.000000</td>\n",
       "      <td>4711.000000</td>\n",
       "      <td>4711.000000</td>\n",
       "      <td>4711.000000</td>\n",
       "    </tr>\n",
       "    <tr>\n",
       "      <th>mean</th>\n",
       "      <td>0.499682</td>\n",
       "      <td>0.927616</td>\n",
       "      <td>7.160263</td>\n",
       "      <td>0.243685</td>\n",
       "      <td>3.586287</td>\n",
       "      <td>0.369985</td>\n",
       "      <td>0.098917</td>\n",
       "      <td>0.025685</td>\n",
       "      <td>0.372108</td>\n",
       "      <td>0.042666</td>\n",
       "      <td>...</td>\n",
       "      <td>0.543621</td>\n",
       "      <td>0.836128</td>\n",
       "      <td>10.314919</td>\n",
       "      <td>0.393335</td>\n",
       "      <td>0.655487</td>\n",
       "      <td>1.585601</td>\n",
       "      <td>0.365952</td>\n",
       "      <td>0.863935</td>\n",
       "      <td>0.051558</td>\n",
       "      <td>0.095521</td>\n",
       "    </tr>\n",
       "    <tr>\n",
       "      <th>std</th>\n",
       "      <td>0.500053</td>\n",
       "      <td>0.259150</td>\n",
       "      <td>7.029782</td>\n",
       "      <td>0.429350</td>\n",
       "      <td>2.289303</td>\n",
       "      <td>0.482852</td>\n",
       "      <td>0.298583</td>\n",
       "      <td>0.158209</td>\n",
       "      <td>0.483418</td>\n",
       "      <td>0.202125</td>\n",
       "      <td>...</td>\n",
       "      <td>0.498146</td>\n",
       "      <td>0.370198</td>\n",
       "      <td>11.223356</td>\n",
       "      <td>0.488542</td>\n",
       "      <td>0.475260</td>\n",
       "      <td>6.262625</td>\n",
       "      <td>0.481747</td>\n",
       "      <td>0.342893</td>\n",
       "      <td>0.268160</td>\n",
       "      <td>0.293965</td>\n",
       "    </tr>\n",
       "    <tr>\n",
       "      <th>min</th>\n",
       "      <td>0.000000</td>\n",
       "      <td>0.000000</td>\n",
       "      <td>0.000000</td>\n",
       "      <td>0.000000</td>\n",
       "      <td>0.000000</td>\n",
       "      <td>0.000000</td>\n",
       "      <td>0.000000</td>\n",
       "      <td>0.000000</td>\n",
       "      <td>0.000000</td>\n",
       "      <td>0.000000</td>\n",
       "      <td>...</td>\n",
       "      <td>0.000000</td>\n",
       "      <td>0.000000</td>\n",
       "      <td>0.000000</td>\n",
       "      <td>0.000000</td>\n",
       "      <td>0.000000</td>\n",
       "      <td>0.000000</td>\n",
       "      <td>0.000000</td>\n",
       "      <td>0.000000</td>\n",
       "      <td>0.000000</td>\n",
       "      <td>0.000000</td>\n",
       "    </tr>\n",
       "    <tr>\n",
       "      <th>25%</th>\n",
       "      <td>0.000000</td>\n",
       "      <td>1.000000</td>\n",
       "      <td>3.000000</td>\n",
       "      <td>0.000000</td>\n",
       "      <td>2.000000</td>\n",
       "      <td>0.000000</td>\n",
       "      <td>0.000000</td>\n",
       "      <td>0.000000</td>\n",
       "      <td>0.000000</td>\n",
       "      <td>0.000000</td>\n",
       "      <td>...</td>\n",
       "      <td>0.000000</td>\n",
       "      <td>1.000000</td>\n",
       "      <td>0.900000</td>\n",
       "      <td>0.000000</td>\n",
       "      <td>0.000000</td>\n",
       "      <td>0.000000</td>\n",
       "      <td>0.000000</td>\n",
       "      <td>1.000000</td>\n",
       "      <td>0.010000</td>\n",
       "      <td>0.000000</td>\n",
       "    </tr>\n",
       "    <tr>\n",
       "      <th>50%</th>\n",
       "      <td>0.000000</td>\n",
       "      <td>1.000000</td>\n",
       "      <td>5.000000</td>\n",
       "      <td>0.000000</td>\n",
       "      <td>3.000000</td>\n",
       "      <td>0.000000</td>\n",
       "      <td>0.000000</td>\n",
       "      <td>0.000000</td>\n",
       "      <td>0.000000</td>\n",
       "      <td>0.000000</td>\n",
       "      <td>...</td>\n",
       "      <td>1.000000</td>\n",
       "      <td>1.000000</td>\n",
       "      <td>6.500000</td>\n",
       "      <td>0.000000</td>\n",
       "      <td>1.000000</td>\n",
       "      <td>0.100000</td>\n",
       "      <td>0.000000</td>\n",
       "      <td>1.000000</td>\n",
       "      <td>0.010000</td>\n",
       "      <td>0.000000</td>\n",
       "    </tr>\n",
       "    <tr>\n",
       "      <th>75%</th>\n",
       "      <td>1.000000</td>\n",
       "      <td>1.000000</td>\n",
       "      <td>9.000000</td>\n",
       "      <td>0.000000</td>\n",
       "      <td>5.000000</td>\n",
       "      <td>1.000000</td>\n",
       "      <td>0.000000</td>\n",
       "      <td>0.000000</td>\n",
       "      <td>1.000000</td>\n",
       "      <td>0.000000</td>\n",
       "      <td>...</td>\n",
       "      <td>1.000000</td>\n",
       "      <td>1.000000</td>\n",
       "      <td>16.000000</td>\n",
       "      <td>1.000000</td>\n",
       "      <td>1.000000</td>\n",
       "      <td>0.400000</td>\n",
       "      <td>1.000000</td>\n",
       "      <td>1.000000</td>\n",
       "      <td>0.020000</td>\n",
       "      <td>0.000000</td>\n",
       "    </tr>\n",
       "    <tr>\n",
       "      <th>max</th>\n",
       "      <td>1.000000</td>\n",
       "      <td>1.000000</td>\n",
       "      <td>56.000000</td>\n",
       "      <td>1.000000</td>\n",
       "      <td>11.000000</td>\n",
       "      <td>1.000000</td>\n",
       "      <td>1.000000</td>\n",
       "      <td>1.000000</td>\n",
       "      <td>1.000000</td>\n",
       "      <td>1.000000</td>\n",
       "      <td>...</td>\n",
       "      <td>1.000000</td>\n",
       "      <td>1.000000</td>\n",
       "      <td>100.000100</td>\n",
       "      <td>1.000000</td>\n",
       "      <td>1.000000</td>\n",
       "      <td>50.000100</td>\n",
       "      <td>1.000000</td>\n",
       "      <td>1.000000</td>\n",
       "      <td>9.560000</td>\n",
       "      <td>1.000000</td>\n",
       "    </tr>\n",
       "  </tbody>\n",
       "</table>\n",
       "<p>8 rows × 84 columns</p>\n",
       "</div>"
      ],
      "text/plain": [
       "       Derivation cohort        LOS_Y          LOS        Death     Severity  \\\n",
       "count        4711.000000  4711.000000  4711.000000  4711.000000  4711.000000   \n",
       "mean            0.499682     0.927616     7.160263     0.243685     3.586287   \n",
       "std             0.500053     0.259150     7.029782     0.429350     2.289303   \n",
       "min             0.000000     0.000000     0.000000     0.000000     0.000000   \n",
       "25%             0.000000     1.000000     3.000000     0.000000     2.000000   \n",
       "50%             0.000000     1.000000     5.000000     0.000000     3.000000   \n",
       "75%             1.000000     1.000000     9.000000     0.000000     5.000000   \n",
       "max             1.000000     1.000000    56.000000     1.000000    11.000000   \n",
       "\n",
       "             Black        White        Asian       Latino           MI  ...  \\\n",
       "count  4711.000000  4711.000000  4711.000000  4711.000000  4711.000000  ...   \n",
       "mean      0.369985     0.098917     0.025685     0.372108     0.042666  ...   \n",
       "std       0.482852     0.298583     0.158209     0.483418     0.202125  ...   \n",
       "min       0.000000     0.000000     0.000000     0.000000     0.000000  ...   \n",
       "25%       0.000000     0.000000     0.000000     0.000000     0.000000  ...   \n",
       "50%       0.000000     0.000000     0.000000     0.000000     0.000000  ...   \n",
       "75%       1.000000     0.000000     0.000000     1.000000     0.000000  ...   \n",
       "max       1.000000     1.000000     1.000000     1.000000     1.000000  ...   \n",
       "\n",
       "       Ferritin > 300  CrctProtYes  CrctProtein  C-Reactive Prot > 10  \\\n",
       "count     4711.000000  4711.000000  4711.000000           4711.000000   \n",
       "mean         0.543621     0.836128    10.314919              0.393335   \n",
       "std          0.498146     0.370198    11.223356              0.488542   \n",
       "min          0.000000     0.000000     0.000000              0.000000   \n",
       "25%          0.000000     1.000000     0.900000              0.000000   \n",
       "50%          1.000000     1.000000     6.500000              0.000000   \n",
       "75%          1.000000     1.000000    16.000000              1.000000   \n",
       "max          1.000000     1.000000   100.000100              1.000000   \n",
       "\n",
       "        ProCalCYes  Procalcitonin  Procalciton > 0.1      TropYes  \\\n",
       "count  4711.000000    4711.000000        4711.000000  4711.000000   \n",
       "mean      0.655487       1.585601           0.365952     0.863935   \n",
       "std       0.475260       6.262625           0.481747     0.342893   \n",
       "min       0.000000       0.000000           0.000000     0.000000   \n",
       "25%       0.000000       0.000000           0.000000     1.000000   \n",
       "50%       1.000000       0.100000           0.000000     1.000000   \n",
       "75%       1.000000       0.400000           1.000000     1.000000   \n",
       "max       1.000000      50.000100           1.000000     1.000000   \n",
       "\n",
       "          Troponin  Troponin > 0.1  \n",
       "count  4711.000000     4711.000000  \n",
       "mean      0.051558        0.095521  \n",
       "std       0.268160        0.293965  \n",
       "min       0.000000        0.000000  \n",
       "25%       0.010000        0.000000  \n",
       "50%       0.010000        0.000000  \n",
       "75%       0.020000        0.000000  \n",
       "max       9.560000        1.000000  \n",
       "\n",
       "[8 rows x 84 columns]"
      ]
     },
     "execution_count": 95,
     "metadata": {},
     "output_type": "execute_result"
    }
   ],
   "source": [
    "df.describe()"
   ]
  },
  {
   "cell_type": "code",
   "execution_count": null,
   "id": "98535355",
   "metadata": {},
   "outputs": [
    {
     "name": "stdout",
     "output_type": "stream",
     "text": [
      "After drop - shape: (4711, 82)\n"
     ]
    }
   ],
   "source": [
    "#now cleaning and reforming the data \n",
    "#2. starting by droping the unnecessary cols\n",
    "to_drop = ['Derivation cohort', 'LOS_Y', 'LOS']\n",
    "df = df.drop(columns=to_drop, errors='ignore')\n",
    "print(\"After drop - shape:\", df.shape)"
   ]
  },
  {
   "cell_type": "code",
   "execution_count": 100,
   "id": "f3b55a3d",
   "metadata": {},
   "outputs": [],
   "source": [
    "# 3. Define features \n",
    "features = [\n",
    "    'AgeScore', 'Severity', 'Black', 'White', 'Asian', 'Latino',\n",
    "    'Troponin', 'Procalcitonin', 'Ferritin', 'Ddimer'\n",
    "]\n",
    "# Only keep features that actually exist\n",
    "features = [f for f in features if f in df.columns]\n",
    "X = df[features].copy() \n"
   ]
  },
  {
   "cell_type": "code",
   "execution_count": 101,
   "id": "262de27f",
   "metadata": {},
   "outputs": [
    {
     "name": "stdout",
     "output_type": "stream",
     "text": [
      "Death unique values: [0 1]\n",
      "Death value counts:\n",
      "Death\n",
      "0    3563\n",
      "1    1148\n",
      "Name: count, dtype: int64\n"
     ]
    }
   ],
   "source": [
    "# 4. Check the target 'Death'\n",
    "print(\"Death unique values:\", df['Death'].unique())\n",
    "print(\"Death value counts:\")\n",
    "print(df['Death'].value_counts())"
   ]
  },
  {
   "cell_type": "code",
   "execution_count": 103,
   "id": "b7ca3e0d",
   "metadata": {},
   "outputs": [
    {
     "name": "stdout",
     "output_type": "stream",
     "text": [
      "y unique values after mapping: (array([0, 1]), array([3563, 1148], dtype=int64))\n"
     ]
    }
   ],
   "source": [
    "# 4b. Convert 'Death' into clean 0/1 integers\n",
    "y = df['Death'].replace({\n",
    "    'Alive': 0, 'Dead': 1,\n",
    "    'No': 0, 'Yes': 1\n",
    "}).astype(int).values.ravel()\n",
    "print(\"y unique values after mapping:\", np.unique(y, return_counts=True))\n"
   ]
  },
  {
   "cell_type": "code",
   "execution_count": null,
   "id": "97f8b27c",
   "metadata": {},
   "outputs": [],
   "source": [
    "# 5. Handle missing values\n",
    "X_train = X.fillna(X.median())\n",
    "\n",
    "# 6. Scale numeric features, if they exist\n",
    "scaler = StandardScaler()\n",
    "scale_cols = [c for c in ['Troponin', 'Procalcitonin', 'Ferritin', 'Ddimer'] if c in X.columns]\n",
    "if scale_cols:\n",
    "    X_train[scale_cols] = scaler.fit_transform(X_train[scale_cols])\n"
   ]
  },
  {
   "cell_type": "code",
   "execution_count": 172,
   "id": "018faabc",
   "metadata": {},
   "outputs": [
    {
     "ename": "AttributeError",
     "evalue": "'numpy.ndarray' object has no attribute 'values'",
     "output_type": "error",
     "traceback": [
      "\u001b[31m---------------------------------------------------------------------------\u001b[39m",
      "\u001b[31mAttributeError\u001b[39m                            Traceback (most recent call last)",
      "\u001b[36mCell\u001b[39m\u001b[36m \u001b[39m\u001b[32mIn[172]\u001b[39m\u001b[32m, line 2\u001b[39m\n\u001b[32m      1\u001b[39m \u001b[38;5;66;03m# 7. Convert to numpy arrays\u001b[39;00m\n\u001b[32m----> \u001b[39m\u001b[32m2\u001b[39m X_train = \u001b[43mX_train\u001b[49m\u001b[43m.\u001b[49m\u001b[43mvalues\u001b[49m\n\u001b[32m      3\u001b[39m y_train = y\n\u001b[32m      4\u001b[39m \u001b[38;5;28mprint\u001b[39m(\u001b[33m\"\u001b[39m\u001b[33mX shape:\u001b[39m\u001b[33m\"\u001b[39m, X.shape, \u001b[33m\"\u001b[39m\u001b[33my shape:\u001b[39m\u001b[33m\"\u001b[39m, y.shape)\n",
      "\u001b[31mAttributeError\u001b[39m: 'numpy.ndarray' object has no attribute 'values'"
     ]
    }
   ],
   "source": [
    "# 7. Convert to numpy arrays\n",
    "X_train = X_train.values\n",
    "y_train = y\n",
    "print(\"X shape:\", X.shape, \"y shape:\", y.shape)"
   ]
  },
  {
   "cell_type": "code",
   "execution_count": 173,
   "id": "d7c7854d",
   "metadata": {},
   "outputs": [
    {
     "name": "stdout",
     "output_type": "stream",
     "text": [
      "Class counts: (array([0, 1]), array([3563, 1148], dtype=int64))\n"
     ]
    }
   ],
   "source": [
    "print(\"Class counts:\", np.unique(y_train, return_counts=True))\n"
   ]
  },
  {
   "cell_type": "code",
   "execution_count": 174,
   "id": "b7aa5349",
   "metadata": {},
   "outputs": [
    {
     "data": {
      "image/png": "[encoded data removed]",
      "text/plain": [
       "<Figure size 600x500 with 1 Axes>"
      ]
     },
     "metadata": {},
     "output_type": "display_data"
    }
   ],
   "source": [
    "# 8. Plot two features (first two columns)\n",
    "plt.figure(figsize=(6,5))\n",
    "plt.scatter(X_train[y_train == 1][:, 0], X_train[y_train == 1][:, 1], color=\"tab:orange\", label=\"Class 1 (Dead)\", s=20)\n",
    "plt.scatter(X_train[y_train == 0][:, 0], X_train[y_train == 0][:, 1], color=\"tab:blue\", label=\"Class 0 (Alive)\", s=20)\n",
    "plt.xlabel(features[0] if len(features) > 0 else \"Feature 0\")\n",
    "plt.ylabel(features[1] if len(features) > 1 else \"Feature 1\")\n",
    "plt.legend()\n",
    "plt.title(\"Scatter by Death Outcome\")\n",
    "plt.show()\n"
   ]
  },
  {
   "cell_type": "code",
   "execution_count": null,
   "id": "5585b034",
   "metadata": {},
   "outputs": [
    {
     "name": "stdout",
     "output_type": "stream",
     "text": [
      "Unique values in y: (array([0, 1]), array([3563, 1148], dtype=int64))\n"
     ]
    }
   ],
   "source": [
    "\n",
    "print(\"Unique values in y:\", np.unique(y, return_counts=True)) \n",
    "# since the plot didn't show any blue dots, just checking to see if there were any surviors \n",
    "#as we can see there are more survivors , but we dont see them because the orange dots overlap them "
   ]
  },
  {
   "cell_type": "markdown",
   "id": "e57afa5c",
   "metadata": {},
   "source": []
  },
  {
   "cell_type": "code",
   "execution_count": null,
   "id": "64bc0ce5",
   "metadata": {},
   "outputs": [],
   "source": [
    "# create a sigmoid function \n",
    "def sigmoid(z):\n",
    "    # Clip values so exp() doesn't overflow\n",
    "    #z = np.clip(z, -500, 500)   # <- ADDED\n",
    "    #return 1/(1+np.exp(-z))\n",
    "    return 1/(1+np.exp(-z))"
   ]
  },
  {
   "cell_type": "code",
   "execution_count": null,
   "id": "18a4230f",
   "metadata": {},
   "outputs": [],
   "source": [
    "\n",
    "def cost_func(X,y, w,b):\n",
    "    m = X.shape[0]\n",
    "    cost_sum = 0\n",
    "    for i in range(m):\n",
    "        z = np.dot(w, X[i])+b\n",
    "        g = sigmoid(z)\n",
    "        #epsilon = 1e-15\n",
    "        cost_sum += -y[i]*np.log(g) - (1-y[i])*np.log(1-g)\n",
    "\n",
    "    return (1/m)*cost_sum\n"
   ]
  },
  {
   "cell_type": "code",
   "execution_count": null,
   "id": "cdac4b9e",
   "metadata": {},
   "outputs": [],
   "source": [
    "def gradient(X,y, w, b):\n",
    "    n= X.shape[1]\n",
    "    grad_w = np.zeros(n) #for w to be 0 we would need to equate that to it's vector of 0's\n",
    "    grad_b = 0\n",
    "    m = X.shape[0]\n",
    "    for i in range(m):\n",
    "        z = np.dot(w, X[i])+b\n",
    "        g = sigmoid(z)\n",
    "        grad_b += (g-y[i])\n",
    "        for j in range(n):\n",
    "            grad_w[j] += (g-y[i])*X[i,j]\n",
    "    grad_b = (1/m)*grad_b\n",
    "    grad_w = (1/m)*grad_w\n",
    "    return grad_w, grad_b\n",
    "        "
   ]
  },
  {
   "cell_type": "code",
   "execution_count": null,
   "id": "0fb0cc16",
   "metadata": {},
   "outputs": [],
   "source": [
    "def gradient_descent(X, y, L, itr):\n",
    "    n = X.shape[1]\n",
    "    w = np.zeros(n)\n",
    "    b = 0\n",
    "    for i in range(itr):\n",
    "        grad_w, grad_b = gradient(X, y, w, b)\n",
    "\n",
    "        w = w - L * grad_w\n",
    "        b = b - L* grad_b\n",
    "\n",
    "        if i %1000==0:\n",
    "            print(f\"Iteration {i}: Cost {cost_func(X, y, w, b)}\")\n",
    "    return w, b"
   ]
  },
  {
   "cell_type": "code",
   "execution_count": null,
   "id": "4bf6c020",
   "metadata": {},
   "outputs": [],
   "source": [
    "def predict(X,w, b):\n",
    "    m = X.shape[0]\n",
    "    preds = np.zeros(m)\n",
    "\n",
    "    for i in range(m):\n",
    "        z = np.dot(w, X[i])+b\n",
    "        g = sigmoid(z)\n",
    "\n",
    "        if g>=0.5:\n",
    "            preds[i] = 1\n",
    "        else:\n",
    "            preds[i] = 0\n",
    "    return preds"
   ]
  },
  {
   "cell_type": "code",
   "execution_count": null,
   "id": "4064f841",
   "metadata": {},
   "outputs": [
    {
     "name": "stdout",
     "output_type": "stream",
     "text": [
      "Iteration 0: Cost 0.6895237108322959\n",
      "Iteration 1000: Cost 0.5074627590563102\n",
      "Iteration 2000: Cost 0.47904847290313757\n",
      "Iteration 3000: Cost 0.46769364338831165\n",
      "Iteration 4000: Cost 0.46220065583395664\n",
      "Iteration 5000: Cost 0.4592233121384364\n",
      "Iteration 6000: Cost 0.457474147311243\n",
      "Iteration 7000: Cost 0.45638143487373745\n",
      "Iteration 8000: Cost 0.4556640523547212\n",
      "Iteration 9000: Cost 0.45517281167674917\n",
      "Training accuracy: 79.11%\n"
     ]
    }
   ],
   "source": [
    "L = 0.01\n",
    "itr = 10000\n",
    "\n",
    "\n",
    "final_w , final_b = gradient_descent(X_train, y_train, L, itr)\n",
    "\n",
    "predicitons = predict(X_train, final_w, final_b)\n",
    "accuracy = np.mean(predicitons == y_train)*100\n",
    "print(f\"Training accuracy: {accuracy:.2f}%\")"
   ]
  },
  {
   "cell_type": "code",
   "execution_count": 175,
   "id": "a5153b79",
   "metadata": {},
   "outputs": [
    {
     "data": {
      "image/png": "[encoded data removed]",
      "text/plain": [
       "<Figure size 640x480 with 1 Axes>"
      ]
     },
     "metadata": {},
     "output_type": "display_data"
    }
   ],
   "source": [
    "m = -final_w[0]/final_w[1]\n",
    "c = -final_b/final_w[1]\n",
    "\n",
    "xmin, xmax = X_train[:, 0].min() - 0.5, X_train[:, 0].max() + 0.5\n",
    "ymin, ymax = X_train[:, 1].min() - 0.5, X_train[:, 1].max() + 0.5\n",
    "xd = np.array([xmin, xmax])\n",
    "yd = m* xd + c\n",
    "plt.plot(xd, yd, 'k', ls = '--', label = 'Decission Boundary')\n",
    "plt.fill_between(xd, yd, ymin, color = 'tab:blue', alpha = 0.2)\n",
    "plt.fill_between(xd, yd, ymax, color = 'tab:orange', alpha = 0.2)\n",
    "\n",
    "plt.scatter(X_train[y_train == 1][:, 0], X_train[y_train == 1][:, 1], color=\"tab:orange\", label=\"Class 1 (Dead)\", s=20)\n",
    "plt.scatter(X_train[y_train == 0][:, 0], X_train[y_train == 0][:, 1], color=\"tab:blue\", label=\"Class 0 (Alive)\", s=20)\n",
    "plt.legend()\n",
    "plt.xlabel(\"Feature 1\")\n",
    "plt.ylabel(\"Feature 2\")\n",
    "plt.xlim(xmin, xmax)\n",
    "plt.ylim(ymin, ymax)\n",
    "plt.show()"
   ]
  }
 ],
 "metadata": {
  "kernelspec": {
   "display_name": "Python 3",
   "language": "python",
   "name": "python3"
  },
  "language_info": {
   "codemirror_mode": {
    "name": "ipython",
    "version": 3
   },
   "file_extension": ".py",
   "mimetype": "text/x-python",
   "name": "python",
   "nbconvert_exporter": "python",
   "pygments_lexer": "ipython3",
   "version": "3.12.4"
  }
 },
 "nbformat": 4,
 "nbformat_minor": 5
}
